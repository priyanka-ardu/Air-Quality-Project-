{
 "cells": [
  {
   "cell_type": "markdown",
   "id": "885e9787",
   "metadata": {},
   "source": [
    "# Air Quality Analysis\n",
    "\n",
    "**Objective:**  \n",
    "Analyze simulated air quality data for Kanjurmarg station using data science techniques — to identify trends, peak pollution hours, and high-risk events.\n",
    "\n",
    "**Dataset:**  \n",
    "Simulated CSV resembling air quality parameters: `PM2.5`, `PM10`, `NO2`, `SO2`, `CO` from sensors every hour.\n"
   ]
  },
  {
   "cell_type": "markdown",
   "id": "b6f5311e",
   "metadata": {},
   "source": [
    "Load Libraries & Modules "
   ]
  },
  {
   "cell_type": "code",
   "execution_count": 1,
   "id": "9c4c52c7",
   "metadata": {},
   "outputs": [
    {
     "ename": "ImportError",
     "evalue": "cannot import name 'compute_summary_statistics' from 'src.data_analysis' (/workspaces/Air-Quality-Project-/src/data_analysis.py)",
     "output_type": "error",
     "traceback": [
      "\u001b[31m---------------------------------------------------------------------------\u001b[39m",
      "\u001b[31mImportError\u001b[39m                               Traceback (most recent call last)",
      "\u001b[36mCell\u001b[39m\u001b[36m \u001b[39m\u001b[32mIn[1]\u001b[39m\u001b[32m, line 11\u001b[39m\n\u001b[32m      9\u001b[39m \u001b[38;5;66;03m# Custom modules\u001b[39;00m\n\u001b[32m     10\u001b[39m \u001b[38;5;28;01mfrom\u001b[39;00m\u001b[38;5;250m \u001b[39m\u001b[34;01msrc\u001b[39;00m\u001b[34;01m.\u001b[39;00m\u001b[34;01mdata_ingestion\u001b[39;00m\u001b[38;5;250m \u001b[39m\u001b[38;5;28;01mimport\u001b[39;00m load_air_quality_data\n\u001b[32m---> \u001b[39m\u001b[32m11\u001b[39m \u001b[38;5;28;01mfrom\u001b[39;00m\u001b[38;5;250m \u001b[39m\u001b[34;01msrc\u001b[39;00m\u001b[34;01m.\u001b[39;00m\u001b[34;01mdata_analysis\u001b[39;00m\u001b[38;5;250m \u001b[39m\u001b[38;5;28;01mimport\u001b[39;00m (\n\u001b[32m     12\u001b[39m     compute_summary_statistics,\n\u001b[32m     13\u001b[39m     compute_hourly_average,\n\u001b[32m     14\u001b[39m     compute_daily_average,\n\u001b[32m     15\u001b[39m     identify_pollution_peaks\n\u001b[32m     16\u001b[39m )\n\u001b[32m     17\u001b[39m \u001b[38;5;28;01mfrom\u001b[39;00m\u001b[38;5;250m \u001b[39m\u001b[34;01msrc\u001b[39;00m\u001b[34;01m.\u001b[39;00m\u001b[34;01mdata_visualization\u001b[39;00m\u001b[38;5;250m \u001b[39m\u001b[38;5;28;01mimport\u001b[39;00m (\n\u001b[32m     18\u001b[39m     plot_pm25_trend,\n\u001b[32m     19\u001b[39m     plot_pollutant_distributions\n\u001b[32m     20\u001b[39m )\n\u001b[32m     21\u001b[39m \u001b[38;5;28;01mimport\u001b[39;00m\u001b[38;5;250m \u001b[39m\u001b[34;01mconfig\u001b[39;00m\n",
      "\u001b[31mImportError\u001b[39m: cannot import name 'compute_summary_statistics' from 'src.data_analysis' (/workspaces/Air-Quality-Project-/src/data_analysis.py)"
     ]
    }
   ],
   "source": [
    "import pandas as pd\n",
    "import numpy as np\n",
    "import sys\n",
    "import os\n",
    "\n",
    "# Add the project root directory to sys.path\n",
    "sys.path.append(os.path.abspath(os.path.join(\"..\")))\n",
    "\n",
    "# Custom modules\n",
    "from src.data_ingestion import load_air_quality_data\n",
    "from src.data_analysis import (\n",
    "    compute_summary_statistics,\n",
    "    compute_hourly_average,\n",
    "    compute_daily_average,\n",
    "    identify_pollution_peaks\n",
    ")\n",
    "from src.data_visualization import (\n",
    "    plot_pm25_trend,\n",
    "    plot_pollutant_distributions\n",
    ")\n",
    "import config"
   ]
  },
  {
   "cell_type": "markdown",
   "id": "ae17813e",
   "metadata": {},
   "source": [
    "Load Data"
   ]
  },
  {
   "cell_type": "code",
   "execution_count": null,
   "id": "ff4c1b6a",
   "metadata": {},
   "outputs": [],
   "source": [
    "df = load_air_quality_data()\n",
    "df.head()\n"
   ]
  },
  {
   "cell_type": "markdown",
   "id": "7d8c061e",
   "metadata": {},
   "source": [
    "> Loaded simulated air quality data containing hourly records.\n"
   ]
  },
  {
   "cell_type": "markdown",
   "id": "78ae217c",
   "metadata": {},
   "source": [
    "Summary Statistics"
   ]
  },
  {
   "cell_type": "code",
   "execution_count": null,
   "id": "56b9e4a3",
   "metadata": {},
   "outputs": [],
   "source": [
    "stats = compute_summary_statistics(df)\n",
    "stats\n"
   ]
  },
  {
   "cell_type": "markdown",
   "id": "f7086acd",
   "metadata": {},
   "source": [
    "> **Summary Statistics**: Provides min, max, mean, and quartiles for each pollutant.\n"
   ]
  },
  {
   "cell_type": "markdown",
   "id": "fe7aff73",
   "metadata": {},
   "source": [
    "Trend Visualization"
   ]
  },
  {
   "cell_type": "code",
   "execution_count": null,
   "id": "d0670a54",
   "metadata": {},
   "outputs": [],
   "source": [
    "plot_pm25_trend(df)\n"
   ]
  },
  {
   "cell_type": "markdown",
   "id": "c60c5c89",
   "metadata": {},
   "source": [
    ">**PM2.5 Trend**: Visualizes PM2.5 hourly variation over time.\n"
   ]
  },
  {
   "cell_type": "markdown",
   "id": "293b0d33",
   "metadata": {},
   "source": [
    "Hourly & Daily Averages"
   ]
  },
  {
   "cell_type": "code",
   "execution_count": null,
   "id": "36bac87c",
   "metadata": {},
   "outputs": [],
   "source": [
    "hourly_avg = compute_hourly_average(df)\n",
    "hourly_avg.head()\n"
   ]
  },
  {
   "cell_type": "code",
   "execution_count": null,
   "id": "97c6137b",
   "metadata": {},
   "outputs": [],
   "source": [
    "daily_avg = compute_daily_average(df)\n",
    "daily_avg.head()\n"
   ]
  },
  {
   "cell_type": "markdown",
   "id": "a8535513",
   "metadata": {},
   "source": [
    "Pollution Distribution"
   ]
  },
  {
   "cell_type": "code",
   "execution_count": null,
   "id": "8342f264",
   "metadata": {},
   "outputs": [],
   "source": [
    "plot_pollutant_distributions(df)\n"
   ]
  },
  {
   "cell_type": "markdown",
   "id": "ff0555c2",
   "metadata": {},
   "source": [
    "> **Pollutant Distribution**: Histogram distribution for each pollutant.\n"
   ]
  },
  {
   "cell_type": "markdown",
   "id": "f1716842",
   "metadata": {},
   "source": [
    "Detect Pollution Peaks "
   ]
  },
  {
   "cell_type": "code",
   "execution_count": null,
   "id": "f3977c26",
   "metadata": {},
   "outputs": [],
   "source": [
    "thresholds = {\n",
    "    \"PM2.5\": 100,\n",
    "    \"PM10\": 150,\n",
    "    \"NO2\": 60,\n",
    "    \"SO2\": 30,\n",
    "    \"CO\": 2\n",
    "}\n",
    "peaks = identify_pollution_peaks(df, thresholds)\n",
    "peaks.head()\n"
   ]
  },
  {
   "cell_type": "markdown",
   "id": "ec1a95d1",
   "metadata": {},
   "source": [
    "> **High Pollution Events**: Records where any pollutant crossed safe limits.\n"
   ]
  },
  {
   "cell_type": "markdown",
   "id": "5d881702",
   "metadata": {},
   "source": [
    "Final Observations & Summary "
   ]
  },
  {
   "cell_type": "markdown",
   "id": "7f900516",
   "metadata": {},
   "source": [
    "# Summary\n",
    "\n",
    "- **PM2.5** shows higher values during early morning and evening hours.\n",
    "- Several high-risk pollution events detected exceeding safe limits.\n",
    "- Average pollution levels vary hourly and daily, suggesting scope for traffic and industrial regulation.\n",
    "\n",
    "> ✅ This notebook serves as a template for further real data integration.\n"
   ]
  },
  {
   "cell_type": "code",
   "execution_count": null,
   "id": "14a13d31",
   "metadata": {},
   "outputs": [],
   "source": []
  },
  {
   "cell_type": "markdown",
   "id": "6ca85fb3",
   "metadata": {},
   "source": []
  },
  {
   "cell_type": "markdown",
   "id": "9db76267",
   "metadata": {},
   "source": []
  }
 ],
 "metadata": {
  "kernelspec": {
   "display_name": "Python 3",
   "language": "python",
   "name": "python3"
  },
  "language_info": {
   "codemirror_mode": {
    "name": "ipython",
    "version": 3
   },
   "file_extension": ".py",
   "mimetype": "text/x-python",
   "name": "python",
   "nbconvert_exporter": "python",
   "pygments_lexer": "ipython3",
   "version": "3.12.1"
  }
 },
 "nbformat": 4,
 "nbformat_minor": 5
}
